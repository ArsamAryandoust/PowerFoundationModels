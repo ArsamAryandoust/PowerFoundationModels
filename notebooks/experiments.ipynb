{
 "cells": [
  {
   "cell_type": "code",
   "execution_count": 1,
   "id": "56bcfa34-ca13-4856-94c5-408e7887ab3e",
   "metadata": {},
   "outputs": [],
   "source": [
    "import os\n",
    "import sys\n",
    "\n",
    "sys.path.append('../')\n",
    "sys.path.append('../src')\n",
    "sys.path.append('../ai4climate')\n",
    "import configuration\n",
    "import transformer\n",
    "import taskdata\n",
    "\n",
    "PATH_CONFIG = '../config.yml'\n",
    "PATH_DATA_ROOT = '../../donti_group_shared/AI4Climate/processed/'"
   ]
  },
  {
   "cell_type": "code",
   "execution_count": null,
   "id": "f120c52b-50a5-49a1-b6df-8e6f855b9979",
   "metadata": {},
   "outputs": [
    {
     "name": "stdout",
     "output_type": "stream",
     "text": [
      "Running computation on GPU\n",
      "All tests for configuration passed!\n",
      "Processing train_small_test_medium for OPFData.\n",
      "Using 1% of total data as specified by user.\n",
      "Continuing with max_workers=1024\n",
      "Continuing with max_workers_download=4\n",
      "Preparing local data directory for OPFData\n",
      "Error fetching file list: HTTPSConnectionPool(host='huggingface.co', port=443): Max retries exceeded with url: /api/datasets/AI4Climate/OPFData/tree/main (Caused by NewConnectionError('<urllib3.connection.HTTPSConnection object at 0x7fb1d40cad70>: Failed to establish a new connection: [Errno 101] Network is unreachable'))\n",
      "\n",
      "Found 0 files to manage (download if needed).\n",
      "Data for AI4Climate/OPFData is now available at ../../donti_group_shared/AI4Climate/processed/OPFData.\n",
      "\n",
      "Preparing subtask train_small_test_medium\n",
      "Data for train_small_test_medium successfully loaded.\n",
      "\n",
      "Processing demand_not_served_regression for PowerGraph.\n",
      "Using 1% of total data as specified by user.\n",
      "Continuing with max_workers=1024\n",
      "Continuing with max_workers_download=4\n",
      "Preparing local data directory for PowerGraph\n",
      "Error fetching file list: HTTPSConnectionPool(host='huggingface.co', port=443): Max retries exceeded with url: /api/datasets/AI4Climate/PowerGraph/tree/main (Caused by NewConnectionError('<urllib3.connection.HTTPSConnection object at 0x7fb1d417a1d0>: Failed to establish a new connection: [Errno 101] Network is unreachable'))\n",
      "\n",
      "Found 0 files to manage (download if needed).\n",
      "Data for AI4Climate/PowerGraph is now available at ../../donti_group_shared/AI4Climate/processed/PowerGraph.\n",
      "\n",
      "Preparing subtask demand_not_served_regression\n"
     ]
    }
   ],
   "source": [
    "# parse experiment configurations into dictionary\n",
    "cfg = configuration.ExperimentConfiguration(PATH_CONFIG)\n",
    "\n",
    "# load task datasets\n",
    "(\n",
    "    opfdata_taskdata,\n",
    "    powergraph_taskdata,\n",
    "    solarcube_taskdata,\n",
    "    buildingelectricity_taskdata\n",
    ") = taskdata.load_all(cfg, PATH_DATA_ROOT)"
   ]
  },
  {
   "cell_type": "code",
   "execution_count": null,
   "id": "7f890a3c-3738-47cf-b172-e19a6f01fdc6",
   "metadata": {},
   "outputs": [],
   "source": []
  }
 ],
 "metadata": {
  "kernelspec": {
   "display_name": "Python [conda env:base] *",
   "language": "python",
   "name": "conda-base-py"
  },
  "language_info": {
   "codemirror_mode": {
    "name": "ipython",
    "version": 3
   },
   "file_extension": ".py",
   "mimetype": "text/x-python",
   "name": "python",
   "nbconvert_exporter": "python",
   "pygments_lexer": "ipython3",
   "version": "3.10.14"
  }
 },
 "nbformat": 4,
 "nbformat_minor": 5
}
