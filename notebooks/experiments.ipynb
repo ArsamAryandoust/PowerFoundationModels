{
 "cells": [
  {
   "cell_type": "code",
   "execution_count": 1,
   "id": "56bcfa34-ca13-4856-94c5-408e7887ab3e",
   "metadata": {},
   "outputs": [],
   "source": [
    "import os\n",
    "import sys\n",
    "\n",
    "sys.path.append('../')\n",
    "sys.path.append('../ai4climate')\n",
    "\n",
    "import ai4climate\n",
    "from ai4climate import load\n",
    "\n",
    "path_root = '../../donti_group_shared/AI4Climate/processed/'"
   ]
  },
  {
   "cell_type": "code",
   "execution_count": 2,
   "id": "16fa1af9-54a0-4a8f-88b0-28eff15647d8",
   "metadata": {},
   "outputs": [
    {
     "name": "stdout",
     "output_type": "stream",
     "text": [
      "Processing 'train_small_test_medium' for 'OPFData'...\n",
      "Using the full dataset with data_frac=1 set by user.\n",
      "Continuing with max_workers=1024\n",
      "Continuing with max_workers_download=4\n",
      "Preparing local data directory for 'OPFData'...\n",
      "Error fetching file list: HTTPSConnectionPool(host='huggingface.co', port=443): Max retries exceeded with url: /api/datasets/AI4Climate/OPFData/tree/main (Caused by NewConnectionError('<urllib3.connection.HTTPSConnection object at 0x7fb1f97c3cd0>: Failed to establish a new connection: [Errno 101] Network is unreachable'))\n",
      "\n",
      "Found 0 files to manage (download if needed).\n",
      "Data for AI4Climate/OPFData is now available at ../../donti_group_shared/AI4Climate/processed/OPFData.\n",
      "\n",
      "Preparing subtask 'train_small_test_medium'...\n",
      "Data for train_small_test_medium successfully loaded.\n",
      "\n"
     ]
    }
   ],
   "source": [
    "opfdata_taskdata = load.load_task(\n",
    "    'OPFData', \n",
    "    'train_small_test_medium',\n",
    "    path_root,\n",
    "    data_frac = 0.01\n",
    ")"
   ]
  },
  {
   "cell_type": "code",
   "execution_count": 3,
   "id": "f186e8f3-ff91-4f0c-9ef2-65c1eaccb5bb",
   "metadata": {},
   "outputs": [
    {
     "name": "stdout",
     "output_type": "stream",
     "text": [
      "Processing 'demand_not_served' for 'PowerGraph'...\n",
      "Using the full dataset with data_frac=1 set by user.\n",
      "Continuing with max_workers=1024\n",
      "Continuing with max_workers_download=4\n",
      "Preparing local data directory for 'PowerGraph'...\n",
      "Error fetching file list: HTTPSConnectionPool(host='huggingface.co', port=443): Max retries exceeded with url: /api/datasets/AI4Climate/PowerGraph/tree/main (Caused by NewConnectionError('<urllib3.connection.HTTPSConnection object at 0x7fb1f97b6260>: Failed to establish a new connection: [Errno 101] Network is unreachable'))\n",
      "\n",
      "Found 0 files to manage (download if needed).\n",
      "Data for AI4Climate/PowerGraph is now available at ../../donti_group_shared/AI4Climate/processed/PowerGraph.\n",
      "\n",
      "Preparing subtask 'demand_not_served'...\n",
      "Data for demand_not_served successfully loaded.\n",
      "\n"
     ]
    }
   ],
   "source": [
    "powergraph_taskdata = load.load_task(\n",
    "    'PowerGraph', \n",
    "    'demand_not_served',\n",
    "    path_root,\n",
    "    data_frac = 0.01\n",
    ")"
   ]
  },
  {
   "cell_type": "code",
   "execution_count": null,
   "id": "ee855abc-27af-4324-9bde-15bfc0b4a59a",
   "metadata": {},
   "outputs": [],
   "source": []
  },
  {
   "cell_type": "code",
   "execution_count": null,
   "id": "023a5b1c-1218-412d-b347-7ad389bb6821",
   "metadata": {},
   "outputs": [],
   "source": []
  },
  {
   "cell_type": "code",
   "execution_count": null,
   "id": "c1323b46-27fc-424f-8941-eeae5a8cfbff",
   "metadata": {},
   "outputs": [],
   "source": []
  },
  {
   "cell_type": "code",
   "execution_count": null,
   "id": "1857c17e-9768-4171-88a6-9b242a62bc1c",
   "metadata": {},
   "outputs": [],
   "source": []
  }
 ],
 "metadata": {
  "kernelspec": {
   "display_name": "Python [conda env:base] *",
   "language": "python",
   "name": "conda-base-py"
  },
  "language_info": {
   "codemirror_mode": {
    "name": "ipython",
    "version": 3
   },
   "file_extension": ".py",
   "mimetype": "text/x-python",
   "name": "python",
   "nbconvert_exporter": "python",
   "pygments_lexer": "ipython3",
   "version": "3.10.14"
  }
 },
 "nbformat": 4,
 "nbformat_minor": 5
}
