{
 "cells": [
  {
   "cell_type": "code",
   "execution_count": 1,
   "id": "56bcfa34-ca13-4856-94c5-408e7887ab3e",
   "metadata": {},
   "outputs": [],
   "source": [
    "import os\n",
    "import sys\n",
    "\n",
    "sys.path.append('../')\n",
    "sys.path.append('../src')\n",
    "sys.path.append('../ai4climate')\n",
    "import configuration\n",
    "import taskdata\n",
    "import training\n",
    "\n",
    "PATH_CONFIG = '../config.yml'\n",
    "PATH_DATA_ROOT = '../../donti_group_shared/AI4Climate/processed/'"
   ]
  },
  {
   "cell_type": "code",
   "execution_count": 2,
   "id": "f120c52b-50a5-49a1-b6df-8e6f855b9979",
   "metadata": {},
   "outputs": [
    {
     "name": "stdout",
     "output_type": "stream",
     "text": [
      "Running computation on GPU\n",
      "All tests for configuration passed!\n",
      "Processing demand_not_served_regression for PowerGraph.\n",
      "Using 1% of total data as specified by user.\n",
      "Continuing with max_workers=1024\n",
      "Continuing with max_workers_download=4\n",
      "Preparing local data directory for PowerGraph\n",
      "Error fetching file list: HTTPSConnectionPool(host='huggingface.co', port=443): Max retries exceeded with url: /api/datasets/AI4Climate/PowerGraph/tree/main (Caused by NewConnectionError('<urllib3.connection.HTTPSConnection object at 0x7fdafed3c100>: Failed to establish a new connection: [Errno 101] Network is unreachable'))\n",
      "\n",
      "Found 0 files to manage (download if needed).\n",
      "Data for AI4Climate/PowerGraph is now available at ../../donti_group_shared/AI4Climate/processed/PowerGraph.\n",
      "\n",
      "Preparing subtask demand_not_served_regression\n",
      "Data for demand_not_served_regression successfully loaded.\n",
      "\n"
     ]
    },
    {
     "name": "stderr",
     "output_type": "stream",
     "text": [
      "/state/partition1/llgrid/pkg/anaconda/python-ML-2025a/lib/python3.10/site-packages/torch/nn/modules/transformer.py:502: UserWarning: nested_from_padded CUDA kernels only support fp32/fp16; falling back to slower generic kernel (Triggered internally at /opt/conda/conda-bld/pytorch_1729647382455/work/aten/src/ATen/native/nested/cuda/NestedTensorTransformerFunctions.cpp:53.)\n",
      "  output = torch._nested_tensor_from_mask(\n",
      "/state/partition1/llgrid/pkg/anaconda/python-ML-2025a/lib/python3.10/site-packages/torch/nn/modules/transformer.py:502: UserWarning: The PyTorch API of nested tensors is in prototype stage and will change in the near future. (Triggered internally at /opt/conda/conda-bld/pytorch_1729647382455/work/aten/src/ATen/NestedTensorImpl.cpp:178.)\n",
      "  output = torch._nested_tensor_from_mask(\n"
     ]
    },
    {
     "name": "stdout",
     "output_type": "stream",
     "text": [
      "Output shape: torch.Size([2, 128, 512])\n",
      "Output shape: torch.Size([2, 128, 512])\n",
      "Output shape: torch.Size([2, 128, 512])\n",
      "Output shape: torch.Size([2, 128, 512])\n",
      "Output shape: torch.Size([2, 128, 512])\n",
      "Output shape: torch.Size([2, 128, 512])\n",
      "Output shape: torch.Size([2, 128, 512])\n",
      "Output shape: torch.Size([2, 128, 512])\n",
      "Output shape: torch.Size([2, 128, 512])\n",
      "Output shape: torch.Size([2, 128, 512])\n",
      "Output shape: torch.Size([2, 128, 512])\n",
      "Output shape: torch.Size([2, 128, 512])\n",
      "Output shape: torch.Size([2, 128, 512])\n",
      "Output shape: torch.Size([2, 128, 512])\n",
      "Output shape: torch.Size([2, 128, 512])\n",
      "Output shape: torch.Size([2, 128, 512])\n",
      "Output shape: torch.Size([2, 128, 512])\n",
      "Output shape: torch.Size([2, 128, 512])\n",
      "Output shape: torch.Size([2, 128, 512])\n",
      "Output shape: torch.Size([2, 128, 512])\n",
      "Output shape: torch.Size([2, 128, 512])\n",
      "Output shape: torch.Size([2, 128, 512])\n",
      "Output shape: torch.Size([2, 128, 512])\n",
      "Output shape: torch.Size([2, 128, 512])\n",
      "Output shape: torch.Size([2, 128, 512])\n",
      "Output shape: torch.Size([2, 128, 512])\n",
      "Output shape: torch.Size([2, 128, 512])\n",
      "Output shape: torch.Size([2, 128, 512])\n",
      "Output shape: torch.Size([2, 128, 512])\n",
      "Output shape: torch.Size([2, 128, 512])\n"
     ]
    }
   ],
   "source": [
    "# parse experiment configurations into dictionary\n",
    "cfg = configuration.ExperimentConfiguration(PATH_CONFIG)\n",
    "\n",
    "# load task datasets\n",
    "taskdata_dict = taskdata.load_all(cfg, PATH_DATA_ROOT)\n",
    "\n",
    "# train model\n",
    "training.train_model(\n",
    "    cfg,\n",
    "    taskdata_dict,\n",
    "    update_models=True\n",
    ")"
   ]
  },
  {
   "cell_type": "code",
   "execution_count": null,
   "id": "a3c6ea2c-d8a8-45a8-b427-e1f707944fb2",
   "metadata": {},
   "outputs": [],
   "source": []
  }
 ],
 "metadata": {
  "kernelspec": {
   "display_name": "Python [conda env:base] *",
   "language": "python",
   "name": "conda-base-py"
  },
  "language_info": {
   "codemirror_mode": {
    "name": "ipython",
    "version": 3
   },
   "file_extension": ".py",
   "mimetype": "text/x-python",
   "name": "python",
   "nbconvert_exporter": "python",
   "pygments_lexer": "ipython3",
   "version": "3.10.14"
  }
 },
 "nbformat": 4,
 "nbformat_minor": 5
}
