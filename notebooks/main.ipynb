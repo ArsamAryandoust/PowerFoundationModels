{
 "cells": [
  {
   "cell_type": "code",
   "execution_count": 3,
   "id": "56bcfa34-ca13-4856-94c5-408e7887ab3e",
   "metadata": {},
   "outputs": [],
   "source": [
    "import os\n",
    "import sys\n",
    "\n",
    "sys.path.append('../')\n",
    "sys.path.append('../src')\n",
    "sys.path.append('../ai4climate')\n",
    "import configuration\n",
    "import taskdata\n",
    "import training\n",
    "import save\n",
    "\n",
    "PATH_CONFIG = '../config.yml'\n",
    "PATH_DATA_ROOT = '../../donti_group_shared/AI4Climate/processed/'\n",
    "PATH_RESULTS = 'results/'"
   ]
  },
  {
   "cell_type": "code",
   "execution_count": null,
   "id": "f120c52b-50a5-49a1-b6df-8e6f855b9979",
   "metadata": {},
   "outputs": [
    {
     "name": "stdout",
     "output_type": "stream",
     "text": [
      "Running computation on GPU\n",
      "Processing odd_time_predict48h for WindFarm.\n",
      "Using 1% of total data as specified by user.\n",
      "Continuing with max_workers=1024\n",
      "Continuing with max_workers_download=4\n",
      "Preparing local data directory for WindFarm\n",
      "Error fetching file list: HTTPSConnectionPool(host='huggingface.co', port=443): Max retries exceeded with url: /api/datasets/AI4Climate/WindFarm/tree/main (Caused by NewConnectionError('<urllib3.connection.HTTPSConnection object at 0x7f20fba25f00>: Failed to establish a new connection: [Errno 101] Network is unreachable'))\n",
      "\n",
      "Found 0 files to manage (download if needed).\n",
      "Data for AI4Climate/WindFarm is now available at ../../donti_group_shared/AI4Climate/processed/WindFarm.\n",
      "\n",
      "Preparing subtask odd_time_predict48h\n"
     ]
    }
   ],
   "source": [
    "# parse experiment configurations into dictionary\n",
    "cfg = configuration.ExperimentConfiguration(PATH_CONFIG)\n",
    "\n",
    "# load task datasets\n",
    "taskdata_dict = taskdata.load_all(cfg, PATH_DATA_ROOT)\n",
    "\n",
    "# train model\n",
    "training.train_model(\n",
    "    cfg,\n",
    "    taskdata_dict,\n",
    "    update=True\n",
    ")\n",
    "\n",
    "# save configuration and results\n",
    "save.all_results(PATH_RESULTS, cfg)"
   ]
  },
  {
   "cell_type": "code",
   "execution_count": null,
   "id": "a3c6ea2c-d8a8-45a8-b427-e1f707944fb2",
   "metadata": {},
   "outputs": [],
   "source": []
  }
 ],
 "metadata": {
  "kernelspec": {
   "display_name": "Python [conda env:base] *",
   "language": "python",
   "name": "conda-base-py"
  },
  "language_info": {
   "codemirror_mode": {
    "name": "ipython",
    "version": 3
   },
   "file_extension": ".py",
   "mimetype": "text/x-python",
   "name": "python",
   "nbconvert_exporter": "python",
   "pygments_lexer": "ipython3",
   "version": "3.10.14"
  }
 },
 "nbformat": 4,
 "nbformat_minor": 5
}
